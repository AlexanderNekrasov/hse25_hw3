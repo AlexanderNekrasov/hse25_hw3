{
  "nbformat": 4,
  "nbformat_minor": 0,
  "metadata": {
    "colab": {
      "provenance": []
    },
    "kernelspec": {
      "name": "python3",
      "display_name": "Python 3"
    },
    "language_info": {
      "name": "python"
    }
  },
  "cells": [
    {
      "cell_type": "markdown",
      "source": [
        "# Устанавливаем java и ChromHmm"
      ],
      "metadata": {
        "id": "vRciyzvPEDLD"
      }
    },
    {
      "cell_type": "code",
      "source": [
        "#!curl -O https://raw.githubusercontent.com/deepjavalibrary/d2l-java/master/tools/fix-colab-gpu.sh && bash fix-colab-gpu.sh"
      ],
      "metadata": {
        "id": "1O3GJ3Gys7Tm"
      },
      "execution_count": null,
      "outputs": []
    },
    {
      "cell_type": "code",
      "execution_count": null,
      "metadata": {
        "colab": {
          "base_uri": "https://localhost:8080/"
        },
        "id": "NxS1Mv5WquOV",
        "outputId": "d0548ca3-bc30-4081-f2c5-4ba551313765"
      },
      "outputs": [
        {
          "output_type": "stream",
          "name": "stdout",
          "text": [
            "  % Total    % Received % Xferd  Average Speed   Time    Time     Time  Current\n",
            "                                 Dload  Upload   Total   Spent    Left  Speed\n",
            "100   520  100   520    0     0   1361      0 --:--:-- --:--:-- --:--:--  1368\n",
            "Update environment...\n",
            "Install Java...\n",
            "Install Jupyter java kernel...\n"
          ]
        }
      ],
      "source": [
        "!curl -O https://raw.githubusercontent.com/deepjavalibrary/d2l-java/master/tools/colab_build.sh && bash colab_build.sh"
      ]
    },
    {
      "cell_type": "code",
      "source": [
        "!java --list-modules | grep \"jdk.jshell\"\n"
      ],
      "metadata": {
        "colab": {
          "base_uri": "https://localhost:8080/"
        },
        "id": "_NrPS924rQFX",
        "outputId": "efac354d-376d-43bf-a791-cb83ee52869d"
      },
      "execution_count": null,
      "outputs": [
        {
          "output_type": "stream",
          "name": "stdout",
          "text": [
            "jdk.jshell@11.0.27\n"
          ]
        }
      ]
    },
    {
      "cell_type": "code",
      "source": [
        "! wget -nv http://compbio.mit.edu/ChromHMM/ChromHMM.zip"
      ],
      "metadata": {
        "colab": {
          "base_uri": "https://localhost:8080/"
        },
        "id": "zCdYYvCJrpRt",
        "outputId": "2ed4584d-52de-41ee-f090-af16faeb7e80"
      },
      "execution_count": null,
      "outputs": [
        {
          "output_type": "stream",
          "name": "stdout",
          "text": [
            "2025-04-19 00:50:23 URL:https://compbio.mit.edu/ChromHMM/ChromHMM.zip [48980485/48980485] -> \"ChromHMM.zip\" [1]\n"
          ]
        }
      ]
    },
    {
      "cell_type": "code",
      "source": [
        "!unzip -qq /content/ChromHMM.zip"
      ],
      "metadata": {
        "id": "gF4uI2bvvEN2",
        "colab": {
          "base_uri": "https://localhost:8080/"
        },
        "outputId": "df354e21-28d9-4a7d-e606-88f637e90f96"
      },
      "execution_count": null,
      "outputs": [
        {
          "output_type": "stream",
          "name": "stdout",
          "text": [
            "Archive:  /content/ChromHMM.zip\n",
            "   creating: ChromHMM/ANCHORFILES/\n",
            "   creating: ChromHMM/ANCHORFILES/ce10/\n",
            "  inflating: ChromHMM/ANCHORFILES/ce10/RefSeqTES.ce10.txt.gz  \n",
            "  inflating: ChromHMM/ANCHORFILES/ce10/RefSeqTSS.ce10.txt.gz  \n",
            "   creating: ChromHMM/ANCHORFILES/ce11/\n",
            "  inflating: ChromHMM/ANCHORFILES/ce11/RefSeqTES.ce11.txt.gz  \n",
            "  inflating: ChromHMM/ANCHORFILES/ce11/RefSeqTSS.ce11.txt.gz  \n",
            "   creating: ChromHMM/ANCHORFILES/ce6/\n",
            "  inflating: ChromHMM/ANCHORFILES/ce6/RefSeqTES.ce6.txt.gz  \n",
            "  inflating: ChromHMM/ANCHORFILES/ce6/RefSeqTSS.ce6.txt.gz  \n",
            "   creating: ChromHMM/ANCHORFILES/danRer10/\n",
            "  inflating: ChromHMM/ANCHORFILES/danRer10/RefSeqTES.danRer10.txt.gz  \n",
            "  inflating: ChromHMM/ANCHORFILES/danRer10/RefSeqTSS.danRer10.txt.gz  \n",
            "   creating: ChromHMM/ANCHORFILES/danRer11/\n",
            "  inflating: ChromHMM/ANCHORFILES/danRer11/RefSeqTES.danRer11.txt.gz  \n",
            "  inflating: ChromHMM/ANCHORFILES/danRer11/RefSeqTSS.danRer11.txt.gz  \n",
            "   creating: ChromHMM/ANCHORFILES/danRer7/\n",
            "  inflating: ChromHMM/ANCHORFILES/danRer7/RefSeqTES.danRer7.txt.gz  \n",
            "  inflating: ChromHMM/ANCHORFILES/danRer7/RefSeqTSS.danRer7.txt.gz  \n",
            "   creating: ChromHMM/ANCHORFILES/dm3/\n",
            "  inflating: ChromHMM/ANCHORFILES/dm3/RefSeqTES.dm3.txt.gz  \n",
            "  inflating: ChromHMM/ANCHORFILES/dm3/RefSeqTSS.dm3.txt.gz  \n",
            "   creating: ChromHMM/ANCHORFILES/dm6/\n",
            "  inflating: ChromHMM/ANCHORFILES/dm6/RefSeqTES.dm6.txt.gz  \n",
            "  inflating: ChromHMM/ANCHORFILES/dm6/RefSeqTSS.dm6.txt.gz  \n",
            "   creating: ChromHMM/ANCHORFILES/hg18/\n",
            "  inflating: ChromHMM/ANCHORFILES/hg18/RefSeqTES.hg18.txt.gz  \n",
            "  inflating: ChromHMM/ANCHORFILES/hg18/RefSeqTSS.hg18.txt.gz  \n",
            "   creating: ChromHMM/ANCHORFILES/hg19/\n",
            "  inflating: ChromHMM/ANCHORFILES/hg19/RefSeqTES.hg19.txt.gz  \n",
            "  inflating: ChromHMM/ANCHORFILES/hg19/RefSeqTSS.hg19.txt.gz  \n",
            "   creating: ChromHMM/ANCHORFILES/hg38/\n",
            "  inflating: ChromHMM/ANCHORFILES/hg38/RefSeqTES.hg38.txt.gz  \n",
            "  inflating: ChromHMM/ANCHORFILES/hg38/RefSeqTSS.hg38.txt.gz  \n",
            "   creating: ChromHMM/ANCHORFILES/hs1/\n",
            "  inflating: ChromHMM/ANCHORFILES/hs1/RefSeqTES.hs1.txt.gz  \n",
            "  inflating: ChromHMM/ANCHORFILES/hs1/RefSeqTSS.hs1.txt.gz  \n",
            "   creating: ChromHMM/ANCHORFILES/mm10/\n",
            "  inflating: ChromHMM/ANCHORFILES/mm10/RefSeqTES.mm10.txt.gz  \n",
            "  inflating: ChromHMM/ANCHORFILES/mm10/RefSeqTSS.mm10.txt.gz  \n",
            "   creating: ChromHMM/ANCHORFILES/mm39/\n",
            "  inflating: ChromHMM/ANCHORFILES/mm39/RefSeqTES.mm39.txt.gz  \n",
            "  inflating: ChromHMM/ANCHORFILES/mm39/RefSeqTSS.mm39.txt.gz  \n",
            "   creating: ChromHMM/ANCHORFILES/mm9/\n",
            "  inflating: ChromHMM/ANCHORFILES/mm9/RefSeqTES.mm9.txt.gz  \n",
            "  inflating: ChromHMM/ANCHORFILES/mm9/RefSeqTSS.mm9.txt.gz  \n",
            "   creating: ChromHMM/ANCHORFILES/rn5/\n",
            "  inflating: ChromHMM/ANCHORFILES/rn5/RefSeqTES.rn5.txt.gz  \n",
            "  inflating: ChromHMM/ANCHORFILES/rn5/RefSeqTSS.rn5.txt.gz  \n",
            "   creating: ChromHMM/ANCHORFILES/rn6/\n",
            "  inflating: ChromHMM/ANCHORFILES/rn6/RefSeqTES.rn6.txt.gz  \n",
            "  inflating: ChromHMM/ANCHORFILES/rn6/RefSeqTSS.rn6.txt.gz  \n",
            "  inflating: ChromHMM/ChromHMM.jar   \n",
            "  inflating: ChromHMM/ChromHMM_manual.pdf  \n",
            "   creating: ChromHMM/CHROMSIZES/\n",
            "  inflating: ChromHMM/CHROMSIZES/ce10.txt  \n",
            "  inflating: ChromHMM/CHROMSIZES/ce11.txt  \n",
            "  inflating: ChromHMM/CHROMSIZES/ce6.txt  \n",
            "  inflating: ChromHMM/CHROMSIZES/danRer10.txt  \n",
            "  inflating: ChromHMM/CHROMSIZES/danRer11.txt  \n",
            "  inflating: ChromHMM/CHROMSIZES/danRer7.txt  \n",
            "  inflating: ChromHMM/CHROMSIZES/dm3.txt  \n",
            "  inflating: ChromHMM/CHROMSIZES/dm6.txt  \n",
            "  inflating: ChromHMM/CHROMSIZES/hg18.txt  \n",
            "  inflating: ChromHMM/CHROMSIZES/hg19.txt  \n",
            "  inflating: ChromHMM/CHROMSIZES/hg38.txt  \n",
            "  inflating: ChromHMM/CHROMSIZES/hs1.txt  \n",
            "  inflating: ChromHMM/CHROMSIZES/mm10.txt  \n",
            "  inflating: ChromHMM/CHROMSIZES/mm39.txt  \n",
            "  inflating: ChromHMM/CHROMSIZES/mm9.txt  \n",
            "  inflating: ChromHMM/CHROMSIZES/rn5.txt  \n",
            "  inflating: ChromHMM/CHROMSIZES/rn6.txt  \n",
            "   creating: ChromHMM/COORDS/\n",
            "   creating: ChromHMM/COORDS/ce10/\n",
            "  inflating: ChromHMM/COORDS/ce10/RefSeqExon.ce10.bed.gz  \n",
            "  inflating: ChromHMM/COORDS/ce10/RefSeqGene.ce10.bed.gz  \n",
            "  inflating: ChromHMM/COORDS/ce10/RefSeqTES.ce10.bed.gz  \n",
            "  inflating: ChromHMM/COORDS/ce10/RefSeqTSS.ce10.bed.gz  \n",
            "  inflating: ChromHMM/COORDS/ce10/RefSeqTSS2kb.ce10.bed.gz  \n",
            "   creating: ChromHMM/COORDS/ce11/\n",
            "  inflating: ChromHMM/COORDS/ce11/RefSeqExon.ce11.bed.gz  \n",
            "  inflating: ChromHMM/COORDS/ce11/RefSeqGene.ce11.bed.gz  \n",
            "  inflating: ChromHMM/COORDS/ce11/RefSeqTES.ce11.bed.gz  \n",
            "  inflating: ChromHMM/COORDS/ce11/RefSeqTSS.ce11.bed.gz  \n",
            "  inflating: ChromHMM/COORDS/ce11/RefSeqTSS2kb.ce11.bed.gz  \n",
            "   creating: ChromHMM/COORDS/ce6/\n",
            "  inflating: ChromHMM/COORDS/ce6/RefSeqExon.ce6.bed.gz  \n",
            "  inflating: ChromHMM/COORDS/ce6/RefSeqGene.ce6.bed.gz  \n",
            "  inflating: ChromHMM/COORDS/ce6/RefSeqTES.ce6.bed.gz  \n",
            "  inflating: ChromHMM/COORDS/ce6/RefSeqTSS.ce6.bed.gz  \n",
            "  inflating: ChromHMM/COORDS/ce6/RefSeqTSS2kb.ce6.bed.gz  \n",
            "   creating: ChromHMM/COORDS/danRer10/\n",
            "  inflating: ChromHMM/COORDS/danRer10/RefSeqExon.danRer10.bed.gz  \n",
            "  inflating: ChromHMM/COORDS/danRer10/RefSeqGene.danRer10.bed.gz  \n",
            "  inflating: ChromHMM/COORDS/danRer10/RefSeqTES.danRer10.bed.gz  \n",
            "  inflating: ChromHMM/COORDS/danRer10/RefSeqTSS.danRer10.bed.gz  \n",
            "  inflating: ChromHMM/COORDS/danRer10/RefSeqTSS2kb.danRer10.bed.gz  \n",
            "   creating: ChromHMM/COORDS/danRer11/\n",
            "  inflating: ChromHMM/COORDS/danRer11/RefSeqExon.danRer11.bed.gz  \n",
            "  inflating: ChromHMM/COORDS/danRer11/RefSeqGene.danRer11.bed.gz  \n",
            "  inflating: ChromHMM/COORDS/danRer11/RefSeqTES.danRer11.bed.gz  \n",
            "  inflating: ChromHMM/COORDS/danRer11/RefSeqTSS.danRer11.bed.gz  \n",
            "  inflating: ChromHMM/COORDS/danRer11/RefSeqTSS2kb.danRer11.bed.gz  \n",
            "   creating: ChromHMM/COORDS/danRer7/\n",
            "  inflating: ChromHMM/COORDS/danRer7/RefSeqExon.danRer7.bed.gz  \n",
            "  inflating: ChromHMM/COORDS/danRer7/RefSeqGene.danRer7.bed.gz  \n",
            "  inflating: ChromHMM/COORDS/danRer7/RefSeqTES.danRer7.bed.gz  \n",
            "  inflating: ChromHMM/COORDS/danRer7/RefSeqTSS.danRer7.bed.gz  \n",
            "  inflating: ChromHMM/COORDS/danRer7/RefSeqTSS2kb.danRer7.bed.gz  \n",
            "   creating: ChromHMM/COORDS/dm3/\n",
            "  inflating: ChromHMM/COORDS/dm3/RefSeqExon.dm3.bed.gz  \n",
            "  inflating: ChromHMM/COORDS/dm3/RefSeqGene.dm3.bed.gz  \n",
            "  inflating: ChromHMM/COORDS/dm3/RefSeqTES.dm3.bed.gz  \n",
            "  inflating: ChromHMM/COORDS/dm3/RefSeqTSS.dm3.bed.gz  \n",
            "  inflating: ChromHMM/COORDS/dm3/RefSeqTSS2kb.dm3.bed.gz  \n",
            "   creating: ChromHMM/COORDS/dm6/\n",
            "  inflating: ChromHMM/COORDS/dm6/RefSeqExon.dm6.bed.gz  \n",
            "  inflating: ChromHMM/COORDS/dm6/RefSeqGene.dm6.bed.gz  \n",
            "  inflating: ChromHMM/COORDS/dm6/RefSeqTES.dm6.bed.gz  \n",
            "  inflating: ChromHMM/COORDS/dm6/RefSeqTSS.dm6.bed.gz  \n",
            "  inflating: ChromHMM/COORDS/dm6/RefSeqTSS2kb.dm6.bed.gz  \n",
            "   creating: ChromHMM/COORDS/hg18/\n",
            "  inflating: ChromHMM/COORDS/hg18/CpGIsland.hg18.bed.gz  \n",
            " extracting: ChromHMM/COORDS/hg18/laminB1lads.hg18.bed.gz  \n",
            "  inflating: ChromHMM/COORDS/hg18/RefSeqExon.hg18.bed.gz  \n",
            "  inflating: ChromHMM/COORDS/hg18/RefSeqGene.hg18.bed.gz  \n",
            "  inflating: ChromHMM/COORDS/hg18/RefSeqTES.hg18.bed.gz  \n",
            "  inflating: ChromHMM/COORDS/hg18/RefSeqTSS.hg18.bed.gz  \n",
            "  inflating: ChromHMM/COORDS/hg18/RefSeqTSS2kb.hg18.bed.gz  \n",
            "   creating: ChromHMM/COORDS/hg19/\n",
            "  inflating: ChromHMM/COORDS/hg19/CpGIsland.hg19.bed.gz  \n",
            " extracting: ChromHMM/COORDS/hg19/laminB1lads.hg19.bed.gz  \n",
            "  inflating: ChromHMM/COORDS/hg19/RefSeqExon.hg19.bed.gz  \n",
            "  inflating: ChromHMM/COORDS/hg19/RefSeqGene.hg19.bed.gz  \n",
            "  inflating: ChromHMM/COORDS/hg19/RefSeqTES.hg19.bed.gz  \n",
            "  inflating: ChromHMM/COORDS/hg19/RefSeqTSS.hg19.bed.gz  \n",
            "  inflating: ChromHMM/COORDS/hg19/RefSeqTSS2kb.hg19.bed.gz  \n",
            "   creating: ChromHMM/COORDS/hg38/\n",
            "  inflating: ChromHMM/COORDS/hg38/CpGIsland.hg38.bed.gz  \n",
            "  inflating: ChromHMM/COORDS/hg38/RefSeqExon.hg38.bed.gz  \n",
            "  inflating: ChromHMM/COORDS/hg38/RefSeqGene.hg38.bed.gz  \n",
            "  inflating: ChromHMM/COORDS/hg38/RefSeqTES.hg38.bed.gz  \n",
            "  inflating: ChromHMM/COORDS/hg38/RefSeqTSS.hg38.bed.gz  \n",
            "  inflating: ChromHMM/COORDS/hg38/RefSeqTSS2kb.hg38.bed.gz  \n",
            "   creating: ChromHMM/COORDS/hs1/\n",
            "  inflating: ChromHMM/COORDS/hs1/CpGIsland.hs1.bed.gz  \n",
            "  inflating: ChromHMM/COORDS/hs1/RefSeqExon.hs1.bed.gz  \n",
            "  inflating: ChromHMM/COORDS/hs1/RefSeqGene.hs1.bed.gz  \n",
            "  inflating: ChromHMM/COORDS/hs1/RefSeqTES.hs1.bed.gz  \n",
            "  inflating: ChromHMM/COORDS/hs1/RefSeqTSS.hs1.bed.gz  \n",
            "  inflating: ChromHMM/COORDS/hs1/RefSeqTSS2kb.hs1.bed.gz  \n",
            "   creating: ChromHMM/COORDS/mm10/\n",
            "  inflating: ChromHMM/COORDS/mm10/CpGIsland.mm10.bed.gz  \n",
            "  inflating: ChromHMM/COORDS/mm10/RefSeqExon.mm10.bed.gz  \n",
            "  inflating: ChromHMM/COORDS/mm10/RefSeqGene.mm10.bed.gz  \n",
            "  inflating: ChromHMM/COORDS/mm10/RefSeqTES.mm10.bed.gz  \n",
            "  inflating: ChromHMM/COORDS/mm10/RefSeqTSS.mm10.bed.gz  \n",
            "  inflating: ChromHMM/COORDS/mm10/RefSeqTSS2kb.mm10.bed.gz  \n",
            "   creating: ChromHMM/COORDS/mm39/\n",
            "  inflating: ChromHMM/COORDS/mm39/CpGIsland.mm39.bed.gz  \n",
            "  inflating: ChromHMM/COORDS/mm39/RefSeqExon.mm39.bed.gz  \n",
            "  inflating: ChromHMM/COORDS/mm39/RefSeqGene.mm39.bed.gz  \n",
            "  inflating: ChromHMM/COORDS/mm39/RefSeqTES.mm39.bed.gz  \n",
            "  inflating: ChromHMM/COORDS/mm39/RefSeqTSS.mm39.bed.gz  \n",
            "  inflating: ChromHMM/COORDS/mm39/RefSeqTSS2kb.mm39.bed.gz  \n",
            "   creating: ChromHMM/COORDS/mm9/\n",
            "  inflating: ChromHMM/COORDS/mm9/CpGIsland.mm9.bed.gz  \n",
            "  inflating: ChromHMM/COORDS/mm9/RefSeqExon.mm9.bed.gz  \n",
            "  inflating: ChromHMM/COORDS/mm9/RefSeqGene.mm9.bed.gz  \n",
            "  inflating: ChromHMM/COORDS/mm9/RefSeqTES.mm9.bed.gz  \n",
            "  inflating: ChromHMM/COORDS/mm9/RefSeqTSS.mm9.bed.gz  \n",
            "  inflating: ChromHMM/COORDS/mm9/RefSeqTSS2kb.mm9.bed.gz  \n",
            "   creating: ChromHMM/COORDS/rn5/\n",
            "  inflating: ChromHMM/COORDS/rn5/CpGIsland.rn5.bed.gz  \n",
            "  inflating: ChromHMM/COORDS/rn5/RefSeqExon.rn5.bed.gz  \n",
            "  inflating: ChromHMM/COORDS/rn5/RefSeqGene.rn5.bed.gz  \n",
            "  inflating: ChromHMM/COORDS/rn5/RefSeqTES.rn5.bed.gz  \n",
            "  inflating: ChromHMM/COORDS/rn5/RefSeqTSS.rn5.bed.gz  \n",
            "  inflating: ChromHMM/COORDS/rn5/RefSeqTSS2kb.rn5.bed.gz  \n",
            "   creating: ChromHMM/COORDS/rn6/\n",
            "  inflating: ChromHMM/COORDS/rn6/CpGIsland.rn6.bed.gz  \n",
            "  inflating: ChromHMM/COORDS/rn6/RefSeqExon.rn6.bed.gz  \n",
            "  inflating: ChromHMM/COORDS/rn6/RefSeqGene.rn6.bed.gz  \n",
            "  inflating: ChromHMM/COORDS/rn6/RefSeqTES.rn6.bed.gz  \n",
            "  inflating: ChromHMM/COORDS/rn6/RefSeqTSS.rn6.bed.gz  \n",
            "  inflating: ChromHMM/COORDS/rn6/RefSeqTSS2kb.rn6.bed.gz  \n",
            "   creating: ChromHMM/SAMPLEDATA_HG18/\n",
            "  inflating: ChromHMM/SAMPLEDATA_HG18/GM12878_chr11_binary.txt.gz  \n",
            "  inflating: ChromHMM/SAMPLEDATA_HG18/K562_chr11_binary.txt.gz  \n",
            "   creating: ChromHMM/SRC/\n",
            "   creating: ChromHMM/SRC/edu/\n",
            "   creating: ChromHMM/SRC/edu/mit/\n",
            "   creating: ChromHMM/SRC/edu/mit/compbio/\n",
            "   creating: ChromHMM/SRC/edu/mit/compbio/ChromHMM/\n",
            "  inflating: ChromHMM/SRC/edu/mit/compbio/ChromHMM/BrowserOutput.java  \n",
            "  inflating: ChromHMM/SRC/edu/mit/compbio/ChromHMM/ChromHMM.java  \n",
            "  inflating: ChromHMM/SRC/edu/mit/compbio/ChromHMM/ConvertGeneTable.java  \n",
            "  inflating: ChromHMM/SRC/edu/mit/compbio/ChromHMM/NestedEliminateInitialize.java  \n",
            "  inflating: ChromHMM/SRC/edu/mit/compbio/ChromHMM/Preprocessing.java  \n",
            "  inflating: ChromHMM/SRC/edu/mit/compbio/ChromHMM/StateAnalysis.java  \n",
            "  inflating: ChromHMM/SRC/edu/mit/compbio/ChromHMM/Util.java  \n",
            "   creating: ChromHMM/SRC/org/\n",
            "   creating: ChromHMM/SRC/org/tc33/\n",
            "   creating: ChromHMM/SRC/org/tc33/jheatchart/\n",
            "  inflating: ChromHMM/SRC/org/tc33/jheatchart/HeatChart.java  \n",
            "  inflating: ChromHMM/versionlog.txt  \n"
          ]
        }
      ]
    },
    {
      "cell_type": "markdown",
      "source": [
        "## Скачиваем файлы"
      ],
      "metadata": {
        "id": "k80uGrS5quq1"
      }
    },
    {
      "cell_type": "markdown",
      "source": [
        "Пример"
      ],
      "metadata": {
        "id": "zbZOefNL7wej"
      }
    },
    {
      "cell_type": "code",
      "source": [
        "! wget -nv http://hgdownload.cse.ucsc.edu/goldenPath/hg19/encodeDCC/wgEncodeBroadHistone/wgEncodeBroadHistoneDnd41ControlStdAlnRep1.bam -O ControlStdAlnRep1.bam"
      ],
      "metadata": {
        "id": "PSWbbv8wcFUY",
        "colab": {
          "base_uri": "https://localhost:8080/"
        },
        "outputId": "a900078b-b214-49b9-8ff7-5e45c46999be"
      },
      "execution_count": null,
      "outputs": [
        {
          "output_type": "stream",
          "name": "stdout",
          "text": [
            "2025-04-19 00:51:04 URL:http://hgdownload.cse.ucsc.edu/goldenPath/hg19/encodeDCC/wgEncodeBroadHistone/wgEncodeBroadHistoneDnd41ControlStdAlnRep1.bam [1650447405/1650447405] -> \"ControlStdAlnRep1.bam\" [1]\n"
          ]
        }
      ]
    },
    {
      "cell_type": "code",
      "source": [
        "%%shell\n",
        "filenames=(\n",
        "    \"wgEncodeBroadHistoneDnd41H3k04me1AlnRep1.bam\"\n",
        "    \"wgEncodeBroadHistoneDnd41H3k04me2AlnRep1.bam\"\n",
        "    \"wgEncodeBroadHistoneDnd41H3k04me3AlnRep1.bam\"\n",
        "    \"wgEncodeBroadHistoneDnd41H3k09acAlnRep1.bam\"\n",
        "    \"wgEncodeBroadHistoneDnd41H3k09me3AlnRep1.bam\"\n",
        "    \"wgEncodeBroadHistoneDnd41H3k27acAlnRep1.bam\"\n",
        "    \"wgEncodeBroadHistoneDnd41H3k27me3AlnRep1.bam\"\n",
        "    \"wgEncodeBroadHistoneDnd41H3k36me3AlnRep1.bam\"\n",
        "    \"wgEncodeBroadHistoneDnd41H3k79me2AlnRep1.bam\"\n",
        "    \"wgEncodeBroadHistoneDnd41H4k20me1AlnRep1.bam\"\n",
        ")\n",
        "\n",
        "base_url=\"http://hgdownload.cse.ucsc.edu/goldenPath/hg19/encodeDCC/wgEncodeBroadHistone\"\n",
        "\n",
        "for filename in \"${filenames[@]}\"; do\n",
        "    wget -nv \"${base_url}/${filename}\"\n",
        "\n",
        "    new_name=\"${filename:25:${#filename}-36}.bam\"\n",
        "\n",
        "    mv -v \"$filename\" \"$new_name\"\n",
        "done"
      ],
      "metadata": {
        "colab": {
          "base_uri": "https://localhost:8080/"
        },
        "id": "ILPJBq80aYwj",
        "outputId": "a234ef01-ca58-458e-f5f7-656c9ca4ae89"
      },
      "execution_count": null,
      "outputs": [
        {
          "output_type": "stream",
          "name": "stdout",
          "text": [
            "2025-04-19 00:51:49 URL:http://hgdownload.cse.ucsc.edu/goldenPath/hg19/encodeDCC/wgEncodeBroadHistone/wgEncodeBroadHistoneDnd41H3k04me1AlnRep1.bam [1166471220/1166471220] -> \"wgEncodeBroadHistoneDnd41H3k04me1AlnRep1.bam\" [1]\n",
            "renamed 'wgEncodeBroadHistoneDnd41H3k04me1AlnRep1.bam' -> 'H3k04me1.bam'\n",
            "2025-04-19 00:52:18 URL:http://hgdownload.cse.ucsc.edu/goldenPath/hg19/encodeDCC/wgEncodeBroadHistone/wgEncodeBroadHistoneDnd41H3k04me2AlnRep1.bam [1120577001/1120577001] -> \"wgEncodeBroadHistoneDnd41H3k04me2AlnRep1.bam\" [1]\n",
            "renamed 'wgEncodeBroadHistoneDnd41H3k04me2AlnRep1.bam' -> 'H3k04me2.bam'\n",
            "2025-04-19 00:53:17 URL:http://hgdownload.cse.ucsc.edu/goldenPath/hg19/encodeDCC/wgEncodeBroadHistone/wgEncodeBroadHistoneDnd41H3k04me3AlnRep1.bam [1387145166/1387145166] -> \"wgEncodeBroadHistoneDnd41H3k04me3AlnRep1.bam\" [1]\n",
            "renamed 'wgEncodeBroadHistoneDnd41H3k04me3AlnRep1.bam' -> 'H3k04me3.bam'\n",
            "2025-04-19 00:53:53 URL:http://hgdownload.cse.ucsc.edu/goldenPath/hg19/encodeDCC/wgEncodeBroadHistone/wgEncodeBroadHistoneDnd41H3k09acAlnRep1.bam [1228857874/1228857874] -> \"wgEncodeBroadHistoneDnd41H3k09acAlnRep1.bam\" [1]\n",
            "renamed 'wgEncodeBroadHistoneDnd41H3k09acAlnRep1.bam' -> 'H3k09ac.bam'\n",
            "2025-04-19 00:54:26 URL:http://hgdownload.cse.ucsc.edu/goldenPath/hg19/encodeDCC/wgEncodeBroadHistone/wgEncodeBroadHistoneDnd41H3k09me3AlnRep1.bam [1103486625/1103486625] -> \"wgEncodeBroadHistoneDnd41H3k09me3AlnRep1.bam\" [1]\n",
            "renamed 'wgEncodeBroadHistoneDnd41H3k09me3AlnRep1.bam' -> 'H3k09me3.bam'\n",
            "2025-04-19 00:55:12 URL:http://hgdownload.cse.ucsc.edu/goldenPath/hg19/encodeDCC/wgEncodeBroadHistone/wgEncodeBroadHistoneDnd41H3k27acAlnRep1.bam [1488790047/1488790047] -> \"wgEncodeBroadHistoneDnd41H3k27acAlnRep1.bam\" [1]\n",
            "renamed 'wgEncodeBroadHistoneDnd41H3k27acAlnRep1.bam' -> 'H3k27ac.bam'\n",
            "2025-04-19 00:55:54 URL:http://hgdownload.cse.ucsc.edu/goldenPath/hg19/encodeDCC/wgEncodeBroadHistone/wgEncodeBroadHistoneDnd41H3k27me3AlnRep1.bam [1328000872/1328000872] -> \"wgEncodeBroadHistoneDnd41H3k27me3AlnRep1.bam\" [1]\n",
            "renamed 'wgEncodeBroadHistoneDnd41H3k27me3AlnRep1.bam' -> 'H3k27me3.bam'\n",
            "2025-04-19 00:56:58 URL:http://hgdownload.cse.ucsc.edu/goldenPath/hg19/encodeDCC/wgEncodeBroadHistone/wgEncodeBroadHistoneDnd41H3k36me3AlnRep1.bam [1425221160/1425221160] -> \"wgEncodeBroadHistoneDnd41H3k36me3AlnRep1.bam\" [1]\n",
            "renamed 'wgEncodeBroadHistoneDnd41H3k36me3AlnRep1.bam' -> 'H3k36me3.bam'\n",
            "2025-04-19 00:57:40 URL:http://hgdownload.cse.ucsc.edu/goldenPath/hg19/encodeDCC/wgEncodeBroadHistone/wgEncodeBroadHistoneDnd41H3k79me2AlnRep1.bam [1452123141/1452123141] -> \"wgEncodeBroadHistoneDnd41H3k79me2AlnRep1.bam\" [1]\n",
            "renamed 'wgEncodeBroadHistoneDnd41H3k79me2AlnRep1.bam' -> 'H3k79me2.bam'\n",
            "2025-04-19 00:58:22 URL:http://hgdownload.cse.ucsc.edu/goldenPath/hg19/encodeDCC/wgEncodeBroadHistone/wgEncodeBroadHistoneDnd41H4k20me1AlnRep1.bam [1500857141/1500857141] -> \"wgEncodeBroadHistoneDnd41H4k20me1AlnRep1.bam\" [1]\n",
            "renamed 'wgEncodeBroadHistoneDnd41H4k20me1AlnRep1.bam' -> 'H4k20me1.bam'\n"
          ]
        },
        {
          "output_type": "execute_result",
          "data": {
            "text/plain": []
          },
          "metadata": {},
          "execution_count": 7
        }
      ]
    },
    {
      "cell_type": "code",
      "source": [
        "filenames = [\"wgEncodeBroadHistoneDnd41H3k04me1AlnRep1.bam\", \"wgEncodeBroadHistoneDnd41H3k04me2AlnRep1.bam\", \"wgEncodeBroadHistoneDnd41H3k04me3AlnRep1.bam\", \"wgEncodeBroadHistoneDnd41H3k09acAlnRep1.bam\", \"wgEncodeBroadHistoneDnd41H3k09me3AlnRep1.bam\", \"wgEncodeBroadHistoneDnd41H3k27acAlnRep1.bam\", \"wgEncodeBroadHistoneDnd41H3k27me3AlnRep1.bam\", \"wgEncodeBroadHistoneDnd41H3k36me3AlnRep1.bam\", \"wgEncodeBroadHistoneDnd41H3k79me2AlnRep1.bam\", \"wgEncodeBroadHistoneDnd41H4k20me1AlnRep1.bam\"]\n",
        "realnames = []\n",
        "for filename in filenames:\n",
        "    realname = filename[25:-11]\n",
        "    print(realname)\n",
        "    realnames.append(realname)"
      ],
      "metadata": {
        "colab": {
          "base_uri": "https://localhost:8080/"
        },
        "id": "VQny0CUBeUxb",
        "outputId": "82ed8ac3-5d10-4c93-f112-68718a2e2b17"
      },
      "execution_count": null,
      "outputs": [
        {
          "output_type": "stream",
          "name": "stdout",
          "text": [
            "H3k04me1\n",
            "H3k04me2\n",
            "H3k04me3\n",
            "H3k09ac\n",
            "H3k09me3\n",
            "H3k27ac\n",
            "H3k27me3\n",
            "H3k36me3\n",
            "H3k79me2\n",
            "H4k20me1\n"
          ]
        }
      ]
    },
    {
      "cell_type": "code",
      "source": [
        "with open(\"cellmarkfiletable.txt\", \"w\") as f:\n",
        "    for realname in realnames:\n",
        "        print(\"Dnd41\", realname, f\"{realname}.bam\", \"ControlStdAlnRep1.bam\", sep=\"\\t\", file=f)\n",
        "!cat cellmarkfiletable.txt"
      ],
      "metadata": {
        "colab": {
          "base_uri": "https://localhost:8080/"
        },
        "id": "tIwoVOIhfnuc",
        "outputId": "23487a47-0de3-49de-e521-3205319b4c00"
      },
      "execution_count": null,
      "outputs": [
        {
          "output_type": "stream",
          "name": "stdout",
          "text": [
            "Dnd41\tH3k04me1\tH3k04me1.bam\tControlStdAlnRep1.bam\n",
            "Dnd41\tH3k04me2\tH3k04me2.bam\tControlStdAlnRep1.bam\n",
            "Dnd41\tH3k04me3\tH3k04me3.bam\tControlStdAlnRep1.bam\n",
            "Dnd41\tH3k09ac\tH3k09ac.bam\tControlStdAlnRep1.bam\n",
            "Dnd41\tH3k09me3\tH3k09me3.bam\tControlStdAlnRep1.bam\n",
            "Dnd41\tH3k27ac\tH3k27ac.bam\tControlStdAlnRep1.bam\n",
            "Dnd41\tH3k27me3\tH3k27me3.bam\tControlStdAlnRep1.bam\n",
            "Dnd41\tH3k36me3\tH3k36me3.bam\tControlStdAlnRep1.bam\n",
            "Dnd41\tH3k79me2\tH3k79me2.bam\tControlStdAlnRep1.bam\n",
            "Dnd41\tH4k20me1\tH4k20me1.bam\tControlStdAlnRep1.bam\n"
          ]
        }
      ]
    },
    {
      "cell_type": "markdown",
      "source": [
        "* Вручную создаем текстовый файл cellmarkfiletable.txt, в котором указываем название типа клеток, разных гистоновых меток, а также соответствующие .bam файлы для эксперимента и контроля. Один и тот же контрольный файл .bam может быть использован для всех экспериментов.\n",
        "\n",
        "* Более подробно о содержании файла cellmarkfiletable.txt можно посмотреть в руководстве пользователя ChromHMM\n",
        "\n",
        "* Файл cellmarkfiletable.txt добавляем в github репозиторий для отчета"
      ],
      "metadata": {
        "id": "asjMJ26h79SY"
      }
    },
    {
      "cell_type": "markdown",
      "source": [
        "Запускаем ChromHMM с опцией BinarizeBam, чтобы конвертировать профили из ChIP-seq экспериментов (bam-файлы) в табличку из 0 и 1, т.е. чтобы сделать разбивку генома на условные интервалы (бины) длиной 200 п.о.\n",
        "Для 11 меток программа работает около 5 мин\n"
      ],
      "metadata": {
        "id": "WeoRL3rp728b"
      }
    },
    {
      "cell_type": "code",
      "source": [
        "!java -mx5000M -jar /content/ChromHMM/ChromHMM.jar BinarizeBam -b 200  /content/ChromHMM/CHROMSIZES/hg19.txt /content/ cellmarkfiletable.txt   binarizedData\n"
      ],
      "metadata": {
        "colab": {
          "base_uri": "https://localhost:8080/"
        },
        "id": "GcVBvuQZfzb8",
        "outputId": "9938b09c-5e4c-42b1-9ad9-2df9c69d5457"
      },
      "execution_count": null,
      "outputs": [
        {
          "output_type": "stream",
          "name": "stdout",
          "text": [
            "Writing to file binarizedData/Dnd41_chr1_binary.txt\n",
            "Writing to file binarizedData/Dnd41_chr2_binary.txt\n",
            "Writing to file binarizedData/Dnd41_chr3_binary.txt\n",
            "Writing to file binarizedData/Dnd41_chr4_binary.txt\n",
            "Writing to file binarizedData/Dnd41_chr5_binary.txt\n",
            "Writing to file binarizedData/Dnd41_chr6_binary.txt\n",
            "Writing to file binarizedData/Dnd41_chr7_binary.txt\n",
            "Writing to file binarizedData/Dnd41_chrX_binary.txt\n",
            "Writing to file binarizedData/Dnd41_chr8_binary.txt\n",
            "Writing to file binarizedData/Dnd41_chr9_binary.txt\n",
            "Writing to file binarizedData/Dnd41_chr10_binary.txt\n",
            "Writing to file binarizedData/Dnd41_chr11_binary.txt\n",
            "Writing to file binarizedData/Dnd41_chr12_binary.txt\n",
            "Writing to file binarizedData/Dnd41_chr13_binary.txt\n",
            "Writing to file binarizedData/Dnd41_chr14_binary.txt\n",
            "Writing to file binarizedData/Dnd41_chr15_binary.txt\n",
            "Writing to file binarizedData/Dnd41_chr16_binary.txt\n",
            "Writing to file binarizedData/Dnd41_chr17_binary.txt\n",
            "Writing to file binarizedData/Dnd41_chr18_binary.txt\n",
            "Writing to file binarizedData/Dnd41_chr20_binary.txt\n",
            "Writing to file binarizedData/Dnd41_chrY_binary.txt\n",
            "Writing to file binarizedData/Dnd41_chr19_binary.txt\n",
            "Writing to file binarizedData/Dnd41_chr22_binary.txt\n",
            "Writing to file binarizedData/Dnd41_chr21_binary.txt\n",
            "Writing to file binarizedData/Dnd41_chrM_binary.txt\n"
          ]
        }
      ]
    },
    {
      "cell_type": "markdown",
      "source": [
        "Запускаем ChromHMM с опцией LearnModel (см. руководство пользователя), которая автоматически определит параметры N разных эпигенетических типов с наиболее выраженными наборами гистоновых меток и присвоит каждому геномному интервалу определенный эпигенетический тип. Количество разных эпигенетических типов (или состояний) выбираете сами (например 10 штук).\n",
        "Не забудьте, что мы работаем с версией референсного генома человека hg19\n",
        "Для 11 меток программа работает около 10 минут\n"
      ],
      "metadata": {
        "id": "Yo11TtNG8SXU"
      }
    },
    {
      "cell_type": "code",
      "source": [
        "!java -mx5000M -jar /content/ChromHMM/ChromHMM.jar LearnModel binarizedData ChromHMM_output 10 hg19"
      ],
      "metadata": {
        "colab": {
          "base_uri": "https://localhost:8080/"
        },
        "id": "E77iD6KWgf6M",
        "outputId": "e8a1ea92-38a1-4880-85dd-638f4ff15d3c"
      },
      "execution_count": null,
      "outputs": [
        {
          "output_type": "stream",
          "name": "stdout",
          "text": [
            "Writing to file ChromHMM_output/transitions_10.txt\n",
            "Writing to file ChromHMM_output/emissions_10.txt\n",
            "Writing to file ChromHMM_output/emissions_10.svg\n",
            "Writing to file ChromHMM_output/emissions_10.png\n",
            "Writing to file ChromHMM_output/transitions_10.png\n",
            "Writing to file ChromHMM_output/transitions_10.svg\n",
            "Writing to file ChromHMM_output/model_10.txt\n",
            " Iteration  Estimated Log Likelihood     Change    Total Time (secs)\n",
            "         1             -11728438.612          -                 17.2\n",
            "         2              -9949329.727 1779108.884                 39.3\n",
            "         3              -9413040.204 536289.523                 59.0\n",
            "         4              -9225395.234 187644.970                 75.1\n",
            "         5              -9128901.685  96493.549                 87.3\n",
            "         6              -9057865.156  71036.529                 99.7\n",
            "         7              -8989350.313  68514.843                111.9\n",
            "         8              -8939251.386  50098.926                124.1\n",
            "         9              -8912992.348  26259.038                136.3\n",
            "        10              -8899979.554  13012.794                149.5\n",
            "        11              -8893763.503   6216.052                162.1\n",
            "        12              -8890929.288   2834.215                174.4\n",
            "        13              -8889619.941   1309.347                186.8\n",
            "        14              -8888966.315    653.626                199.2\n",
            "        15              -8888590.000    376.315                211.6\n",
            "        16              -8888334.278    255.722                225.3\n",
            "        17              -8888124.808    209.470                237.6\n",
            "        18              -8887903.331    221.477                250.2\n",
            "        19              -8887553.653    349.678                262.5\n",
            "        20              -8886572.577    981.076                274.9\n",
            "        21              -8882919.021   3653.556                287.1\n",
            "        22              -8873565.217   9353.805                299.3\n",
            "        23              -8855250.393  18314.824                311.5\n",
            "        24              -8819842.807  35407.587                323.2\n",
            "        25              -8797561.610  22281.196                335.1\n",
            "        26              -8789163.744   8397.866                347.1\n",
            "        27              -8785539.630   3624.114                359.5\n",
            "        28              -8783338.110   2201.520                371.9\n",
            "        29              -8781705.234   1632.876                384.3\n",
            "        30              -8780756.278    948.956                396.9\n",
            "        31              -8780273.096    483.182                410.8\n",
            "        32              -8780019.976    253.120                423.5\n",
            "        33              -8779882.207    137.769                436.1\n",
            "        34              -8779804.538     77.669                448.7\n",
            "        35              -8779758.915     45.622                461.4\n",
            "        36              -8779731.046     27.869                474.1\n",
            "        37              -8779713.408     17.638                487.3\n",
            "        38              -8779701.909     11.500                500.4\n",
            "        39              -8779694.230      7.679                513.5\n",
            "        40              -8779689.008      5.222                526.7\n",
            "        41              -8779685.411      3.597                542.8\n",
            "        42              -8779682.911      2.500                556.1\n",
            "        43              -8779681.163      1.748                569.3\n",
            "        44              -8779679.938      1.225                582.5\n",
            "        45              -8779679.078      0.859                595.7\n",
            "        46              -8779678.477      0.602                610.5\n",
            "        47              -8779678.056      0.420                623.9\n",
            "        48              -8779677.766      0.291                637.2\n",
            "        49              -8779677.566      0.200                650.5\n",
            "        50              -8779677.430      0.136                663.9\n",
            "        51              -8779677.340      0.091                677.5\n",
            "        52              -8779677.281      0.059                691.1\n",
            "        53              -8779677.244      0.037                704.8\n",
            "        54              -8779677.222      0.022                718.1\n",
            "        55              -8779677.211      0.011                731.5\n",
            "        56              -8779677.206      0.005                744.8\n",
            "        57              -8779677.206     -0.000                758.2\n",
            "Writing to file ChromHMM_output/Dnd41_10_segments.bed\n",
            "Writing to file ChromHMM_output/Dnd41_10_dense.bed\n",
            "Writing to file ChromHMM_output/Dnd41_10_expanded.bed\n",
            "Writing to file ChromHMM_output/Dnd41_10_overlap.txt\n",
            "Writing to file ChromHMM_output/Dnd41_10_overlap.png\n",
            "Writing to file ChromHMM_output/Dnd41_10_overlap.svg\n",
            "Writing to file ChromHMM_output/Dnd41_10_RefSeqTSS_neighborhood.txt\n",
            "Writing to file ChromHMM_output/Dnd41_10_RefSeqTSS_neighborhood.png\n",
            "Writing to file ChromHMM_output/Dnd41_10_RefSeqTSS_neighborhood.svg\n",
            "Writing to file ChromHMM_output/Dnd41_10_RefSeqTES_neighborhood.txt\n",
            "Writing to file ChromHMM_output/Dnd41_10_RefSeqTES_neighborhood.png\n",
            "Writing to file ChromHMM_output/Dnd41_10_RefSeqTES_neighborhood.svg\n",
            "Warning could not automatically open in a browser ChromHMM_output/webpage_10.html\n"
          ]
        }
      ]
    },
    {
      "cell_type": "markdown",
      "source": [
        "В результате выполнения команды LearnModel будет создан набор файлов (в том числе HTML страничка) в папке выдачи, которая была указана при запуске. Скачиваем эту папку себе на копьютер и открываем HTML файл.\n",
        "\n",
        "Дальнейшие инстркции -- см. в описании ДЗ"
      ],
      "metadata": {
        "id": "7yuCmmw-gsFC"
      }
    },
    {
      "cell_type": "code",
      "source": [
        "from google.colab import drive\n",
        "import shutil\n",
        "\n",
        "drive.mount('/content/drive')\n",
        "\n",
        "local_folder = \"ChromHMM_output\"\n",
        "drive_folder = \"/content/drive/MyDrive/ChromHMM_output\"\n",
        "\n",
        "shutil.copytree(local_folder, drive_folder, dirs_exist_ok=False)\n",
        "\n",
        "print(f\"Successfully copied '{local_folder}' to Google Drive at '{drive_folder}'\")\n"
      ],
      "metadata": {
        "colab": {
          "base_uri": "https://localhost:8080/"
        },
        "id": "Erjmcpvvmt0I",
        "outputId": "2f977a73-5d77-4a07-c842-68954d1f612b"
      },
      "execution_count": null,
      "outputs": [
        {
          "output_type": "stream",
          "name": "stdout",
          "text": [
            "Mounted at /content/drive\n",
            "Successfully copied 'ChromHMM_output' to Google Drive at '/content/drive/MyDrive/ChromHMM_output'\n"
          ]
        }
      ]
    },
    {
      "cell_type": "code",
      "source": [],
      "metadata": {
        "id": "KrQuo8bFtkjn"
      },
      "execution_count": null,
      "outputs": []
    }
  ]
}
